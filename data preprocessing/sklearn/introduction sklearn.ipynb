{
 "cells": [
  {
   "cell_type": "markdown",
   "metadata": {
    "id": "tW55Od29DTIn"
   },
   "source": [
    "# Introduction\n",
    "In this example the Iris dataset we discussed in the slides. Our question will be this: `given a model trained on a portion of the Iris data, how well can we predict the remaining labels?`\n",
    "\n",
    "The more detailed version of this notebook can be found on :\n",
    "http://bit.ly/3mHipAa"
   ]
  },
  {
   "cell_type": "code",
   "execution_count": 1,
   "metadata": {
    "colab": {
     "base_uri": "https://localhost:8080/",
     "height": 204
    },
    "executionInfo": {
     "elapsed": 982,
     "status": "ok",
     "timestamp": 1608669180933,
     "user": {
      "displayName": "Jan De Spiegeleer",
      "photoUrl": "https://lh3.googleusercontent.com/a-/AOh14Ggxxb9SxBqAv_r35BXg4rQuvrALa7N1_RqDSbwQUw=s64",
      "userId": "15176895267494237817"
     },
     "user_tz": -60
    },
    "id": "ROi1ZCNtDFe5",
    "outputId": "d9ae9b83-408a-4997-9737-840dee6ff982"
   },
   "outputs": [
    {
     "ename": "NameError",
     "evalue": "name 'sns' is not defined",
     "output_type": "error",
     "traceback": [
      "\u001b[0;31m---------------------------------------------------------------------------\u001b[0m",
      "\u001b[0;31mNameError\u001b[0m                                 Traceback (most recent call last)",
      "Input \u001b[0;32mIn [1]\u001b[0m, in \u001b[0;36m<module>\u001b[0;34m\u001b[0m\n\u001b[0;32m----> 1\u001b[0m iris \u001b[38;5;241m=\u001b[39m \u001b[43msns\u001b[49m\u001b[38;5;241m.\u001b[39mload_dataset(\u001b[38;5;124m'\u001b[39m\u001b[38;5;124miris\u001b[39m\u001b[38;5;124m'\u001b[39m)\n\u001b[1;32m      2\u001b[0m iris\u001b[38;5;241m.\u001b[39mhead()\n",
      "\u001b[0;31mNameError\u001b[0m: name 'sns' is not defined"
     ]
    }
   ],
   "source": [
    "iris = sns.load_dataset('iris')\n",
    "iris.head()"
   ]
  },
  {
   "cell_type": "markdown",
   "metadata": {
    "id": "wYrMr49ZKQd1"
   },
   "source": [
    "We will use an extremely simple generative model known as **Gaussian naive Bayes** (GNB), which proceeds by assuming each class is drawn from an axis-aligned Gaussian distribution.\n",
    "\n",
    "GNB is fast and has no hyperparameters to choose, hence a good model to use as a baseline classification, before exploring whether improvements can be found through more sophisticated models."
   ]
  },
  {
   "cell_type": "markdown",
   "metadata": {
    "id": "qUq-sl3vDSAV"
   },
   "source": [
    "We would like to evaluate the model on data it has not seen before, and so we will split the data into a training set and a testing set. This could be done by hand, but it is more convenient to use the `train_test_split utility` function:"
   ]
  },
  {
   "cell_type": "code",
   "execution_count": null,
   "metadata": {
    "executionInfo": {
     "elapsed": 548,
     "status": "ok",
     "timestamp": 1608669516114,
     "user": {
      "displayName": "Jan De Spiegeleer",
      "photoUrl": "https://lh3.googleusercontent.com/a-/AOh14Ggxxb9SxBqAv_r35BXg4rQuvrALa7N1_RqDSbwQUw=s64",
      "userId": "15176895267494237817"
     },
     "user_tz": -60
    },
    "id": "BWEj-giBKoON"
   },
   "outputs": [],
   "source": [
    "from sklearn.model_selection import train_test_split"
   ]
  },
  {
   "cell_type": "code",
   "execution_count": null,
   "metadata": {
    "executionInfo": {
     "elapsed": 659,
     "status": "ok",
     "timestamp": 1608669574529,
     "user": {
      "displayName": "Jan De Spiegeleer",
      "photoUrl": "https://lh3.googleusercontent.com/a-/AOh14Ggxxb9SxBqAv_r35BXg4rQuvrALa7N1_RqDSbwQUw=s64",
      "userId": "15176895267494237817"
     },
     "user_tz": -60
    },
    "id": "V83ZDy1oK9oK"
   },
   "outputs": [],
   "source": [
    "X_iris = iris.drop('species', axis=1)\n",
    "y_iris = iris['species']\n",
    "\n",
    "Xtrain, Xtest, ytrain, ytest = train_test_split(X_iris, y_iris,random_state=1)"
   ]
  },
  {
   "cell_type": "code",
   "execution_count": null,
   "metadata": {
    "executionInfo": {
     "elapsed": 566,
     "status": "ok",
     "timestamp": 1608669760591,
     "user": {
      "displayName": "Jan De Spiegeleer",
      "photoUrl": "https://lh3.googleusercontent.com/a-/AOh14Ggxxb9SxBqAv_r35BXg4rQuvrALa7N1_RqDSbwQUw=s64",
      "userId": "15176895267494237817"
     },
     "user_tz": -60
    },
    "id": "yKhPgURVLNro"
   },
   "outputs": [],
   "source": [
    "from sklearn.naive_bayes import GaussianNB # 1. choose model class\n",
    "model = GaussianNB()                       # 2. instantiate model\n",
    "model.fit(Xtrain, ytrain)                  # 3. fit model to data\n",
    "y_model = model.predict(Xtest)             # 4. predict on new data"
   ]
  },
  {
   "cell_type": "markdown",
   "metadata": {
    "id": "GCd3Hm9KMWcy"
   },
   "source": [
    "Finally, we can use the accuracy_score utility to see the fraction of predicted labels that match their true value. \n",
    "<br>\n",
    "In sklearn we can use the `accuracy_score` function which computes the accuracy (% of correct predictions in this case)"
   ]
  },
  {
   "cell_type": "code",
   "execution_count": null,
   "metadata": {
    "colab": {
     "base_uri": "https://localhost:8080/"
    },
    "executionInfo": {
     "elapsed": 557,
     "status": "ok",
     "timestamp": 1608669832691,
     "user": {
      "displayName": "Jan De Spiegeleer",
      "photoUrl": "https://lh3.googleusercontent.com/a-/AOh14Ggxxb9SxBqAv_r35BXg4rQuvrALa7N1_RqDSbwQUw=s64",
      "userId": "15176895267494237817"
     },
     "user_tz": -60
    },
    "id": "ufOTeCZbMInj",
    "outputId": "b55787d2-3d5a-4bd6-8385-be16a0a7a232"
   },
   "outputs": [],
   "source": [
    "from sklearn.metrics import accuracy_score\n",
    "accuracy_score(ytest, y_model)"
   ]
  },
  {
   "cell_type": "code",
   "execution_count": null,
   "metadata": {
    "id": "6zY3mxgPMaOd"
   },
   "outputs": [],
   "source": []
  }
 ],
 "metadata": {
  "colab": {
   "authorship_tag": "ABX9TyO1IpkJnUcA4zwbVIvHitnL",
   "name": "introduction sklearn.ipynb",
   "provenance": []
  },
  "kernelspec": {
   "display_name": "Python 3 (ipykernel)",
   "language": "python",
   "name": "python3"
  },
  "language_info": {
   "codemirror_mode": {
    "name": "ipython",
    "version": 3
   },
   "file_extension": ".py",
   "mimetype": "text/x-python",
   "name": "python",
   "nbconvert_exporter": "python",
   "pygments_lexer": "ipython3",
   "version": "3.9.5"
  },
  "toc": {
   "base_numbering": 1,
   "nav_menu": {},
   "number_sections": true,
   "sideBar": true,
   "skip_h1_title": false,
   "title_cell": "Table of Contents",
   "title_sidebar": "Contents",
   "toc_cell": false,
   "toc_position": {},
   "toc_section_display": true,
   "toc_window_display": false
  },
  "varInspector": {
   "cols": {
    "lenName": 16,
    "lenType": 16,
    "lenVar": 40
   },
   "kernels_config": {
    "python": {
     "delete_cmd_postfix": "",
     "delete_cmd_prefix": "del ",
     "library": "var_list.py",
     "varRefreshCmd": "print(var_dic_list())"
    },
    "r": {
     "delete_cmd_postfix": ") ",
     "delete_cmd_prefix": "rm(",
     "library": "var_list.r",
     "varRefreshCmd": "cat(var_dic_list()) "
    }
   },
   "types_to_exclude": [
    "module",
    "function",
    "builtin_function_or_method",
    "instance",
    "_Feature"
   ],
   "window_display": false
  }
 },
 "nbformat": 4,
 "nbformat_minor": 1
}
